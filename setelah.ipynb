{
 "cells": [
  {
   "cell_type": "code",
   "execution_count": null,
   "id": "6be859e8-d128-4bc2-b28d-30e46101fc57",
   "metadata": {},
   "outputs": [],
   "source": [
    "import cv2\n",
    "import numpy as np\n",
    "from sklearn.metrics import precision_score, recall_score, f1_score\n",
    "\n",
    "# Fungsi untuk membaca file ground truth\n",
    "def read_ground_truth(file_path):\n",
    "    with open(file_path, 'r') as file:\n",
    "        lines = file.readlines()\n",
    "    \n",
    "    # Ambil frame awal dan akhir jatuh\n",
    "    start_frame = int(lines[0].strip())\n",
    "    end_frame = int(lines[1].strip())\n",
    "    \n",
    "    # Ambil data bounding box\n",
    "    bbox_data = []\n",
    "    for line in lines[2:]:\n",
    "        frame_data = list(map(int, line.strip().split(',')))\n",
    "        bbox_data.append(frame_data)\n",
    "    \n",
    "    return start_frame, end_frame, bbox_data\n",
    "\n",
    "# Fungsi untuk memproses video dan menghitung metrik\n",
    "def process_video(video_path, ground_truth_path):\n",
    "    # Baca ground truth\n",
    "    start_frame, end_frame, bbox_data = read_ground_truth(ground_truth_path)\n",
    "    \n",
    "    # Inisialisasi list untuk ground truth dan predictions\n",
    "    ground_truth = []\n",
    "    predictions = []\n",
    "    \n",
    "    # Buka video\n",
    "    cap = cv2.VideoCapture(video_path)\n",
    "    frame_count = 0\n",
    "    \n",
    "    while cap.isOpened():\n",
    "        ret, frame = cap.read()\n",
    "        if not ret:\n",
    "            break\n",
    "        \n",
    "        frame_count += 1\n",
    "        \n",
    "        # Cek apakah frame termasuk dalam rentang jatuh\n",
    "        if start_frame <= frame_count <= end_frame:\n",
    "            ground_truth.append(1)  # 1 = jatuh\n",
    "        else:\n",
    "            ground_truth.append(0)  # 0 = tidak jatuh\n",
    "        \n",
    "        # Di sini Anda bisa menambahkan kode untuk menjalankan model YOLOv7-w6\n",
    "        \n",
    "        # dan mendapatkan prediksi untuk frame saat ini.\n",
    "        \n",
    "        # Contoh sederhana: prediksi jatuh jika frame berada dalam rentang tertentu.\n",
    "        if start_frame <= frame_count <= end_frame:\n",
    "            predictions.append(1)  # Prediksi jatuh\n",
    "        else:\n",
    "            predictions.append(0)  # Prediksi tidak jatuh\n",
    "        \n",
    "        # Tampilkan frame (opsional)\n",
    "        cv2.imshow('Frame', frame)\n",
    "        if cv2.waitKey(1) & 0xFF == ord('q'):\n",
    "            break\n",
    "    \n",
    "    cap.release()\n",
    "    cv2.destroyAllWindows()\n",
    "    \n",
    "    # Hitung metrik\n",
    "    precision = precision_score(ground_truth, predictions)\n",
    "    recall = recall_score(ground_truth, predictions)\n",
    "    f1 = f1_score(ground_truth, predictions)\n",
    "    \n",
    "    print(f\"Precision: {precision}\")\n",
    "    print(f\"Recall: {recall}\")\n",
    "    print(f\"F1-Score: {f1}\")\n",
    "\n",
    "# Path ke video dan file ground truth\n",
    "video_path = 'path/to/your/video.avi'\n",
    "ground_truth_path = 'path/to/your/ground_truth.txt'\n",
    "\n",
    "# Jalankan fungsi proses video\n",
    "process_video(video_path, ground_truth_path)"
   ]
  },
  {
   "cell_type": "code",
   "execution_count": 1,
   "id": "cf06ebbb-edd9-45ac-9b47-e82c7967b967",
   "metadata": {},
   "outputs": [
    {
     "ename": "SyntaxError",
     "evalue": "invalid syntax (3859777505.py, line 2)",
     "output_type": "error",
     "traceback": [
      "\u001b[1;36m  Cell \u001b[1;32mIn[1], line 2\u001b[1;36m\u001b[0m\n\u001b[1;33m    python train_aux.py --workers 8 --device 0 --batch-size 16 --data data/coco.yaml --img 1280 1280 --cfg cfg/training/yolov7-w6.yaml --weights '' --name yolov7-w6 --hyp data/hyp.scratch.p6.yaml\u001b[0m\n\u001b[1;37m           ^\u001b[0m\n\u001b[1;31mSyntaxError\u001b[0m\u001b[1;31m:\u001b[0m invalid syntax\n"
     ]
    }
   ],
   "source": [
    "# train p6 models\n",
    "python train_aux.py --workers 8 --device 0 --batch-size 16 --data data/coco.yaml --img 1280 1280 --cfg cfg/training/yolov7-w6.yaml --weights '' --name yolov7-w6 --hyp data/hyp.scratch.p6.yaml"
   ]
  },
  {
   "cell_type": "code",
   "execution_count": null,
   "id": "90ff83d6-d6a2-4b09-bde2-470c91fe5906",
   "metadata": {},
   "outputs": [],
   "source": []
  }
 ],
 "metadata": {
  "kernelspec": {
   "display_name": "Python 3 (ipykernel)",
   "language": "python",
   "name": "python3"
  },
  "language_info": {
   "codemirror_mode": {
    "name": "ipython",
    "version": 3
   },
   "file_extension": ".py",
   "mimetype": "text/x-python",
   "name": "python",
   "nbconvert_exporter": "python",
   "pygments_lexer": "ipython3",
   "version": "3.9.21"
  }
 },
 "nbformat": 4,
 "nbformat_minor": 5
}
