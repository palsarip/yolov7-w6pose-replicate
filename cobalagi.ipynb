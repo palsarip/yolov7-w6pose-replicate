{
 "cells": [
  {
   "cell_type": "code",
   "execution_count": 1,
   "id": "6742f056-63f3-4144-8f7a-28920732f566",
   "metadata": {},
   "outputs": [],
   "source": [
    "import os\n",
    "import cv2\n",
    "import numpy as np\n",
    "\n",
    "def load_ur_fall_dataset(data_dir):\n",
    "    images_dir = os.path.join(data_dir, 'images')\n",
    "    labels_dir = os.path.join(data_dir, 'labels')\n",
    "\n",
    "    images = []\n",
    "    labels = []\n",
    "\n",
    "    for img_file in os.listdir(images_dir):\n",
    "        if img_file.endswith('.jpg') or img_file.endswith('.png'):\n",
    "            img_path = os.path.join(images_dir, img_file)\n",
    "            label_path = os.path.join(labels_dir, img_file.replace('.jpg', '.txt').replace('.png', '.txt'))\n",
    "\n",
    "            # Baca gambar\n",
    "            image = cv2.imread(img_path)\n",
    "            images.append(image)\n",
    "\n",
    "            # Baca label\n",
    "            with open(label_path, 'r') as f:\n",
    "                lines = f.readlines()\n",
    "                label = [list(map(float, line.strip().split())) for line in lines]\n",
    "                labels.append(label)\n",
    "\n",
    "    return images, labels"
   ]
  },
  {
   "cell_type": "code",
   "execution_count": 2,
   "id": "f9b5a752-b6b5-4085-9ed4-5714f28518fd",
   "metadata": {},
   "outputs": [
    {
     "name": "stderr",
     "output_type": "stream",
     "text": [
      "C:\\Users\\LENOVO\\AppData\\Local\\Temp\\ipykernel_5160\\918565691.py:8: FutureWarning: You are using `torch.load` with `weights_only=False` (the current default value), which uses the default pickle module implicitly. It is possible to construct malicious pickle data which will execute arbitrary code during unpickling (See https://github.com/pytorch/pytorch/blob/main/SECURITY.md#untrusted-models for more details). In a future release, the default value for `weights_only` will be flipped to `True`. This limits the functions that could be executed during unpickling. Arbitrary objects will no longer be allowed to be loaded via this mode unless they are explicitly allowlisted by the user via `torch.serialization.add_safe_globals`. We recommend you start setting `weights_only=True` for any use case where you don't have full control of the loaded file. Please open an issue on GitHub for any issues related to this experimental feature.\n",
      "  weights = torch.load('yolov7-w6-pose.pt', map_location=device)\n"
     ]
    },
    {
     "ename": "NameError",
     "evalue": "name 'letterbox' is not defined",
     "output_type": "error",
     "traceback": [
      "\u001b[1;31m---------------------------------------------------------------------------\u001b[0m",
      "\u001b[1;31mNameError\u001b[0m                                 Traceback (most recent call last)",
      "Cell \u001b[1;32mIn[2], line 27\u001b[0m\n\u001b[0;32m     24\u001b[0m \u001b[38;5;66;03m# Evaluasi pada setiap gambar\u001b[39;00m\n\u001b[0;32m     25\u001b[0m \u001b[38;5;28;01mfor\u001b[39;00m img, label \u001b[38;5;129;01min\u001b[39;00m \u001b[38;5;28mzip\u001b[39m(images, labels):\n\u001b[0;32m     26\u001b[0m     \u001b[38;5;66;03m# Preprocessing gambar\u001b[39;00m\n\u001b[1;32m---> 27\u001b[0m     img_resized \u001b[38;5;241m=\u001b[39m \u001b[43mletterbox\u001b[49m(img, \u001b[38;5;241m960\u001b[39m, stride\u001b[38;5;241m=\u001b[39m\u001b[38;5;241m64\u001b[39m, auto\u001b[38;5;241m=\u001b[39m\u001b[38;5;28;01mTrue\u001b[39;00m)[\u001b[38;5;241m0\u001b[39m]\n\u001b[0;32m     28\u001b[0m     img_tensor \u001b[38;5;241m=\u001b[39m transforms\u001b[38;5;241m.\u001b[39mToTensor()(img_resized)\n\u001b[0;32m     29\u001b[0m     img_tensor \u001b[38;5;241m=\u001b[39m torch\u001b[38;5;241m.\u001b[39mtensor(np\u001b[38;5;241m.\u001b[39marray([img_tensor\u001b[38;5;241m.\u001b[39mnumpy()]))\n",
      "\u001b[1;31mNameError\u001b[0m: name 'letterbox' is not defined"
     ]
    }
   ],
   "source": [
    "import torch\n",
    "from models.experimental import attempt_load\n",
    "from utils.general import non_max_suppression_kpt\n",
    "from utils.plots import output_to_keypoint\n",
    "\n",
    "# Load model\n",
    "device = torch.device(\"cuda:0\" if torch.cuda.is_available() else \"cpu\")\n",
    "weights = torch.load('yolov7-w6-pose.pt', map_location=device)\n",
    "model = weights['model']\n",
    "_ = model.float().eval()\n",
    "\n",
    "if torch.cuda.is_available():\n",
    "    model.half().to(device)\n",
    "\n",
    "# Load dataset UR Fall\n",
    "data_dir = 'test'  # Ganti dengan path ke folder dataset UR Fall\n",
    "images, labels = load_ur_fall_dataset(data_dir)\n",
    "\n",
    "# Inisialisasi metrik\n",
    "true_positives = 0\n",
    "false_positives = 0\n",
    "false_negatives = 0\n",
    "\n",
    "# Evaluasi pada setiap gambar\n",
    "for img, label in zip(images, labels):\n",
    "    # Preprocessing gambar\n",
    "    img_resized = letterbox(img, 960, stride=64, auto=True)[0]\n",
    "    img_tensor = transforms.ToTensor()(img_resized)\n",
    "    img_tensor = torch.tensor(np.array([img_tensor.numpy()]))\n",
    "\n",
    "    if torch.cuda.is_available():\n",
    "        img_tensor = img_tensor.half().to(device)\n",
    "\n",
    "    # Inferensi\n",
    "    with torch.no_grad():\n",
    "        output, _ = model(img_tensor)\n",
    "    output = non_max_suppression_kpt(output, 0.25, 0.65, nc=model.yaml['nc'], nkpt=model.yaml['nkpt'], kpt_label=True)\n",
    "    output = output_to_keypoint(output)\n",
    "\n",
    "    # Proses hasil deteksi\n",
    "    detected_fall = False\n",
    "    for det in output:\n",
    "        if len(det):\n",
    "            detected_fall = True  # Asumsi deteksi jatuh jika ada keypoints terdeteksi\n",
    "\n",
    "    # Bandingkan dengan ground truth\n",
    "    ground_truth_fall = any(cls[0] == 0 for cls in label)  # Class 0: fall\n",
    "\n",
    "    if detected_fall and ground_truth_fall:\n",
    "        true_positives += 1\n",
    "    elif detected_fall and not ground_truth_fall:\n",
    "        false_positives += 1\n",
    "    elif not detected_fall and ground_truth_fall:\n",
    "        false_negatives += 1\n",
    "\n",
    "# Hitung metrik\n",
    "precision = true_positives / (true_positives + false_positives) if (true_positives + false_positives) > 0 else 0\n",
    "recall = true_positives / (true_positives + false_negatives) if (true_positives + false_negatives) > 0 else 0\n",
    "f1_score = 2 * (precision * recall) / (precision + recall) if (precision + recall) > 0 else 0\n",
    "accuracy = (true_positives) / len(images)  # Akurasi sederhana\n",
    "\n",
    "print(f\"True Positives: {true_positives}\")\n",
    "print(f\"False Positives: {false_positives}\")\n",
    "print(f\"False Negatives: {false_negatives}\")\n",
    "print(f\"Precision: {precision:.4f}\")\n",
    "print(f\"Recall: {recall:.4f}\")\n",
    "print(f\"F1-Score: {f1_score:.4f}\")\n",
    "print(f\"Accuracy: {accuracy:.4f}\")"
   ]
  },
  {
   "cell_type": "code",
   "execution_count": null,
   "id": "303d4b28-ea06-4bd2-8ca3-b9074046a443",
   "metadata": {},
   "outputs": [],
   "source": []
  },
  {
   "cell_type": "code",
   "execution_count": null,
   "id": "36acb8ab-bbe3-4bc7-a2f0-ae7fe19613a7",
   "metadata": {},
   "outputs": [],
   "source": []
  },
  {
   "cell_type": "code",
   "execution_count": null,
   "id": "55ab140a-6ac1-419c-a3a8-f52fba278220",
   "metadata": {},
   "outputs": [],
   "source": []
  }
 ],
 "metadata": {
  "kernelspec": {
   "display_name": "Python 3 (ipykernel)",
   "language": "python",
   "name": "python3"
  },
  "language_info": {
   "codemirror_mode": {
    "name": "ipython",
    "version": 3
   },
   "file_extension": ".py",
   "mimetype": "text/x-python",
   "name": "python",
   "nbconvert_exporter": "python",
   "pygments_lexer": "ipython3",
   "version": "3.9.21"
  }
 },
 "nbformat": 4,
 "nbformat_minor": 5
}
